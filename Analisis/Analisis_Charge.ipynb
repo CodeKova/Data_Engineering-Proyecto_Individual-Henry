{
 "cells": [
  {
   "cell_type": "code",
   "execution_count": 10,
   "metadata": {},
   "outputs": [],
   "source": [
    "import os\n",
    "import pandas as pd\n",
    "import numpy as np\n",
    "import sqlalchemy\n",
    "import chardet\n",
    "import sqlalchemy\n",
    "import pathlib\n",
    "import datefinder\n",
    "import datetime\n",
    "from sqlalchemy.orm import Session\n",
    "from sqlalchemy.ext.automap import automap_base"
   ]
  },
  {
   "cell_type": "code",
   "execution_count": 2,
   "metadata": {},
   "outputs": [],
   "source": [
    "db_engine = sqlalchemy.create_engine('sqlite:///DataBase.db')"
   ]
  },
  {
   "cell_type": "code",
   "execution_count": 9,
   "metadata": {},
   "outputs": [],
   "source": [
    "session = Session(db_engine)"
   ]
  },
  {
   "cell_type": "code",
   "execution_count": 12,
   "metadata": {},
   "outputs": [],
   "source": [
    "Base = sqlalchemy.ext.automap.automap_base()\n",
    "Base.prepare(db_engine, reflect=True)"
   ]
  },
  {
   "cell_type": "code",
   "execution_count": 20,
   "metadata": {},
   "outputs": [],
   "source": [
    "Table_Name = Base.classes.keys"
   ]
  },
  {
   "cell_type": "code",
   "execution_count": 23,
   "metadata": {},
   "outputs": [
    {
     "data": {
      "text/html": [
       "<div>\n",
       "<style scoped>\n",
       "    .dataframe tbody tr th:only-of-type {\n",
       "        vertical-align: middle;\n",
       "    }\n",
       "\n",
       "    .dataframe tbody tr th {\n",
       "        vertical-align: top;\n",
       "    }\n",
       "\n",
       "    .dataframe thead th {\n",
       "        text-align: right;\n",
       "    }\n",
       "</style>\n",
       "<table border=\"1\" class=\"dataframe\">\n",
       "  <thead>\n",
       "    <tr style=\"text-align: right;\">\n",
       "      <th></th>\n",
       "      <th>index</th>\n",
       "      <th>sucursal_id</th>\n",
       "      <th>producto_id</th>\n",
       "      <th>precio</th>\n",
       "    </tr>\n",
       "  </thead>\n",
       "  <tbody>\n",
       "    <tr>\n",
       "      <th>0</th>\n",
       "      <td>0</td>\n",
       "      <td>1-1-12</td>\n",
       "      <td>00042096276.0</td>\n",
       "      <td>168.1</td>\n",
       "    </tr>\n",
       "    <tr>\n",
       "      <th>1</th>\n",
       "      <td>1</td>\n",
       "      <td>1-1-12</td>\n",
       "      <td>00042126560.0</td>\n",
       "      <td>160.9</td>\n",
       "    </tr>\n",
       "    <tr>\n",
       "      <th>2</th>\n",
       "      <td>2</td>\n",
       "      <td>1-1-12</td>\n",
       "      <td>00042231301.0</td>\n",
       "      <td>160.9</td>\n",
       "    </tr>\n",
       "    <tr>\n",
       "      <th>3</th>\n",
       "      <td>3</td>\n",
       "      <td>1-1-12</td>\n",
       "      <td>00042231486.0</td>\n",
       "      <td>215.5</td>\n",
       "    </tr>\n",
       "    <tr>\n",
       "      <th>4</th>\n",
       "      <td>4</td>\n",
       "      <td>1-1-12</td>\n",
       "      <td>00042231509.0</td>\n",
       "      <td>184.9</td>\n",
       "    </tr>\n",
       "    <tr>\n",
       "      <th>...</th>\n",
       "      <td>...</td>\n",
       "      <td>...</td>\n",
       "      <td>...</td>\n",
       "      <td>...</td>\n",
       "    </tr>\n",
       "    <tr>\n",
       "      <th>1459714</th>\n",
       "      <td>1629290</td>\n",
       "      <td>9-3-628</td>\n",
       "      <td>7898587761185.0</td>\n",
       "      <td>4490.0</td>\n",
       "    </tr>\n",
       "    <tr>\n",
       "      <th>1459715</th>\n",
       "      <td>1629291</td>\n",
       "      <td>9-3-628</td>\n",
       "      <td>7898587761215.0</td>\n",
       "      <td>4190.0</td>\n",
       "    </tr>\n",
       "    <tr>\n",
       "      <th>1459716</th>\n",
       "      <td>1629293</td>\n",
       "      <td>9-3-628</td>\n",
       "      <td>7898587761284.0</td>\n",
       "      <td>4490.0</td>\n",
       "    </tr>\n",
       "    <tr>\n",
       "      <th>1459717</th>\n",
       "      <td>1629295</td>\n",
       "      <td>9-3-628</td>\n",
       "      <td>7898587761314.0</td>\n",
       "      <td>6250.0</td>\n",
       "    </tr>\n",
       "    <tr>\n",
       "      <th>1459718</th>\n",
       "      <td>1629296</td>\n",
       "      <td>9-3-628</td>\n",
       "      <td>7898587761338.0</td>\n",
       "      <td>4190.0</td>\n",
       "    </tr>\n",
       "  </tbody>\n",
       "</table>\n",
       "<p>1459719 rows × 4 columns</p>\n",
       "</div>"
      ],
      "text/plain": [
       "           index sucursal_id      producto_id  precio\n",
       "0              0      1-1-12    00042096276.0   168.1\n",
       "1              1      1-1-12    00042126560.0   160.9\n",
       "2              2      1-1-12    00042231301.0   160.9\n",
       "3              3      1-1-12    00042231486.0   215.5\n",
       "4              4      1-1-12    00042231509.0   184.9\n",
       "...          ...         ...              ...     ...\n",
       "1459714  1629290     9-3-628  7898587761185.0  4490.0\n",
       "1459715  1629291     9-3-628  7898587761215.0  4190.0\n",
       "1459716  1629293     9-3-628  7898587761284.0  4490.0\n",
       "1459717  1629295     9-3-628  7898587761314.0  6250.0\n",
       "1459718  1629296     9-3-628  7898587761338.0  4190.0\n",
       "\n",
       "[1459719 rows x 4 columns]"
      ]
     },
     "execution_count": 23,
     "metadata": {},
     "output_type": "execute_result"
    }
   ],
   "source": [
    "pd.read_sql_table('precio',db_engine,index_col=False)"
   ]
  }
 ],
 "metadata": {
  "kernelspec": {
   "display_name": "Python 3.10.6 64-bit",
   "language": "python",
   "name": "python3"
  },
  "language_info": {
   "codemirror_mode": {
    "name": "ipython",
    "version": 3
   },
   "file_extension": ".py",
   "mimetype": "text/x-python",
   "name": "python",
   "nbconvert_exporter": "python",
   "pygments_lexer": "ipython3",
   "version": "3.10.6"
  },
  "orig_nbformat": 4,
  "vscode": {
   "interpreter": {
    "hash": "c4eab25714b531a40a98b4b8d1d7a9f54795666fc5db9a5ab70863ff2b3e8841"
   }
  }
 },
 "nbformat": 4,
 "nbformat_minor": 2
}
